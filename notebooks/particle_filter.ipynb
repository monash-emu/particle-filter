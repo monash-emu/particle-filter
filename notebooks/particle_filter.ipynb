{
 "cells": [
  {
   "cell_type": "code",
   "execution_count": null,
   "id": "0",
   "metadata": {},
   "outputs": [],
   "source": [
    "import numpy as np\n",
    "import pandas as pd\n",
    "from scipy.stats import truncnorm\n",
    "import matplotlib.pyplot as plt\n",
    "\n",
    "from emu_filter.pfilter import filter_loop\n",
    "from emu_filter.state_model import binomial_sample, random_walk\n",
    "from emu_filter.importance import truncnorm_importance\n",
    "from emu_filter.outputs import get_counts_from_particles, plot_particle_results, get_links_from_pedigree, plot_links"
   ]
  },
  {
   "cell_type": "code",
   "execution_count": null,
   "id": "1",
   "metadata": {},
   "outputs": [],
   "source": [
    "# Inputs\n",
    "contact_rate = 1.5\n",
    "recovery_rate = 0.1\n",
    "total_pop = 1000\n",
    "inf_init = 4\n",
    "n_particles = 10\n",
    "observations = [0, 15, 40, 65, 124, 204, 252, 210]\n",
    "target_sd = 50.0\n",
    "volatility = 0.2"
   ]
  },
  {
   "cell_type": "code",
   "execution_count": null,
   "id": "2",
   "metadata": {},
   "outputs": [],
   "source": [
    "importance_params = {\"target_sd\": target_sd}\n",
    "\n",
    "# Binomial sample\n",
    "process_params = {\"contact_rate\": contact_rate, \"recovery_rate\": recovery_rate, \"total_pop\": total_pop}\n",
    "init_particles = np.zeros([len(observations) + 1, 3, n_particles], dtype=int)\n",
    "particles, prop_particles, pedigree = filter_loop(observations, binomial_sample, init_particles, truncnorm_importance, process_params, importance_params)\n",
    "\n",
    "# Random walk\n",
    "# process_params = {\"recovery_rate\": recovery_rate, \"total_pop\": total_pop, \"volatility\": volatility}  # For random_walk\n",
    "# init_particles = np.zeros([len(observations) + 1, 4, n_particles], dtype=int)\n",
    "# init_particles[0, 3, :] = contact_rate\n",
    "# particles, prop_particles, pedigree = filter_loop(observations, random_walk, init_particles, truncnorm_importance, process_params, importance_params)"
   ]
  },
  {
   "cell_type": "code",
   "execution_count": null,
   "id": "3",
   "metadata": {},
   "outputs": [],
   "source": [
    "# Initialise particles\n",
    "init_particles[0, 0, :] = total_pop - inf_init  # Susceptible\n",
    "init_particles[0, 1, :] = inf_init  # Infectious"
   ]
  },
  {
   "cell_type": "code",
   "execution_count": null,
   "id": "4",
   "metadata": {},
   "outputs": [],
   "source": [
    "plot_particle_results(prop_particles, particles, observations)"
   ]
  },
  {
   "cell_type": "code",
   "execution_count": null,
   "id": "5",
   "metadata": {},
   "outputs": [],
   "source": [
    "links = get_links_from_pedigree(particles, pedigree, observations)\n",
    "plot_links(particles, links, observations)"
   ]
  }
 ],
 "metadata": {
  "kernelspec": {
   "display_name": "Python 3 (ipykernel)",
   "language": "python",
   "name": "python3"
  },
  "language_info": {
   "codemirror_mode": {
    "name": "ipython",
    "version": 3
   },
   "file_extension": ".py",
   "mimetype": "text/x-python",
   "name": "python",
   "nbconvert_exporter": "python",
   "pygments_lexer": "ipython3",
   "version": "3.10.14"
  }
 },
 "nbformat": 4,
 "nbformat_minor": 5
}
