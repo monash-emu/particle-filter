{
 "cells": [
  {
   "cell_type": "code",
   "execution_count": null,
   "id": "0",
   "metadata": {},
   "outputs": [],
   "source": [
    "import numpy as np\n",
    "import pandas as pd\n",
    "from scipy.stats import truncnorm\n",
    "import matplotlib.pyplot as plt\n",
    "\n",
    "from emu_filter.state_model import binomial_sample, random_walk\n",
    "from emu_filter.importance import truncnorm_importance\n",
    "from emu_filter.outputs import get_counts_from_particles, plot_particle_results, get_links_from_pedigree, plot_links"
   ]
  },
  {
   "cell_type": "code",
   "execution_count": null,
   "id": "1",
   "metadata": {},
   "outputs": [],
   "source": [
    "# Inputs\n",
    "contact_rate = 1.5\n",
    "recovery_rate = 0.1\n",
    "total_pop = 1000\n",
    "inf_init = 4\n",
    "n_particles = 10\n",
    "observations = [0, 15, 40, 65, 124, 204, 252, 210]\n",
    "target_sd = 50.0\n",
    "volatility = 0.2"
   ]
  },
  {
   "cell_type": "code",
   "execution_count": null,
   "id": "2",
   "metadata": {},
   "outputs": [],
   "source": [
    "# Initialise particles\n",
    "particles = np.zeros([len(observations) + 1, 4, n_particles], dtype=int)\n",
    "particles[0, 0, :] = total_pop - inf_init  # Susceptible\n",
    "particles[0, 1, :] = inf_init  # Infectious\n",
    "particles[0, 3, :] = contact_rate  # Random process\n",
    "prop_particles = np.copy(particles)\n",
    "pedigree = np.zeros([len(observations), n_particles], dtype=int)\n",
    "\n",
    "# params = {\"contact_rate\": contact_rate, \"recovery_rate\": recovery_rate, \"total_pop\": total_pop}\n",
    "# predict_state = binomial_sample\n",
    "params = {\"recovery_rate\": recovery_rate, \"total_pop\": total_pop, \"volatility\": volatility}\n",
    "predict_state = random_walk\n",
    "\n",
    "# Main loop\n",
    "for o, obs in enumerate(observations):\n",
    "    \n",
    "    # Prediction\n",
    "    proposed_particles = predict_state(particles[o, :, :], **params)\n",
    "    prop_particles[o + 1, :] = proposed_particles\n",
    "\n",
    "    # Importance\n",
    "    weights = truncnorm_importance(proposed_particles[1, :], obs, target_sd)\n",
    "    norm_weights = weights / sum(weights)\n",
    "\n",
    "    # Resampling\n",
    "    indices = np.random.choice(n_particles, size=n_particles, p=norm_weights)\n",
    "    pedigree[o, :] = indices\n",
    "    resamp_particles = proposed_particles[:, indices]\n",
    "    \n",
    "    # Update\n",
    "    particles[o + 1, :, :] = resamp_particles"
   ]
  },
  {
   "cell_type": "code",
   "execution_count": null,
   "id": "3",
   "metadata": {},
   "outputs": [],
   "source": [
    "plot_particle_results(prop_particles, particles, observations)"
   ]
  },
  {
   "cell_type": "code",
   "execution_count": null,
   "id": "4",
   "metadata": {},
   "outputs": [],
   "source": [
    "links = get_links_from_pedigree(particles, pedigree, observations)\n",
    "plot_links(particles, links, observations)"
   ]
  }
 ],
 "metadata": {
  "kernelspec": {
   "display_name": "Python 3 (ipykernel)",
   "language": "python",
   "name": "python3"
  },
  "language_info": {
   "codemirror_mode": {
    "name": "ipython",
    "version": 3
   },
   "file_extension": ".py",
   "mimetype": "text/x-python",
   "name": "python",
   "nbconvert_exporter": "python",
   "pygments_lexer": "ipython3",
   "version": "3.10.14"
  }
 },
 "nbformat": 4,
 "nbformat_minor": 5
}
