{
 "cells": [
  {
   "cell_type": "code",
   "execution_count": null,
   "id": "ace5378e",
   "metadata": {},
   "outputs": [],
   "source": [
    "# Optional!\n",
    "# This will enable 64bit (double) precision for internal calculations\n",
    "# More accurate, but half the speed. Whether it is necessary depends on the problem (to be discussed)\n",
    "\n",
    "from os import environ\n",
    "environ[\"JAX_ENABLE_X64\"] = \"True\""
   ]
  },
  {
   "cell_type": "code",
   "execution_count": null,
   "id": "0",
   "metadata": {},
   "outputs": [],
   "source": [
    "import numpy as np\n",
    "import pandas as pd\n",
    "from scipy.stats import truncnorm\n",
    "import matplotlib.pyplot as plt\n",
    "\n",
    "from jax import random, lax, numpy as jnp\n",
    "\n",
    "from emu_filter.efjax.state_model import ensemble_step\n",
    "from emu_filter.efjax.importance import truncnorm_importance\n",
    "from emu_filter.efjax.outputs import get_counts_from_particles, plot_particle_results, get_links_from_pedigree, plot_links"
   ]
  },
  {
   "cell_type": "code",
   "execution_count": null,
   "id": "2",
   "metadata": {},
   "outputs": [],
   "source": [
    "# Inputs\n",
    "contact_rate = 1.0\n",
    "recovery_rate = 0.1\n",
    "total_pop = 1000\n",
    "inf_init = 12\n",
    "n_particles = 100\n",
    "\n",
    "# Needs to be jax array\n",
    "observations = jnp.array([0, 15, 40, 65, 124, 204, 252, 210])\n",
    "target_sd = 50.0"
   ]
  },
  {
   "cell_type": "code",
   "execution_count": null,
   "id": "5ff3282f",
   "metadata": {},
   "outputs": [],
   "source": [
    "# Initialise particles\n",
    "\n",
    "init_state = np.zeros([3, n_particles], dtype=np.int32)\n",
    "init_state[0, :] = total_pop - inf_init  # Susceptible\n",
    "init_state[1, :] = inf_init  # Infectious\n"
   ]
  },
  {
   "cell_type": "code",
   "execution_count": null,
   "id": "16cab82d",
   "metadata": {},
   "outputs": [],
   "source": [
    "# Generate a set of jax random keys; one for each timestep\n",
    "k = random.PRNGKey(0)\n",
    "\n",
    "def step_particle_filter(carry, x):\n",
    "    particles, k = carry\n",
    "    # Split the keys for our 2 random operations (and one to pass on to the next iteration)\n",
    "    k_next, k_ens, k_choice = random.split(k, 3)\n",
    "\n",
    "    proposed_particles = ensemble_step(particles, k_ens, contact_rate, recovery_rate, total_pop)\n",
    "    \n",
    "    # Importance    \n",
    "    weights = truncnorm_importance(proposed_particles[1], observations[x], target_sd)\n",
    "    norm_weights = weights / weights.sum()\n",
    "\n",
    "    # Resampling\n",
    "    indices = random.choice(k_choice, n_particles, shape=(n_particles,), p=norm_weights)\n",
    "    resamp_particles = proposed_particles[:, indices]\n",
    "    \n",
    "    # Update\n",
    "    return (resamp_particles,k_next), {\"proposed\": proposed_particles, \"resampled\": resamp_particles, \"pedigree\": indices}\n",
    "\n",
    "_, res = lax.scan(step_particle_filter, (init_state,k), jnp.arange(0,len(observations)))"
   ]
  },
  {
   "cell_type": "code",
   "execution_count": null,
   "id": "97fa52a5",
   "metadata": {},
   "outputs": [],
   "source": [
    "%%time\n",
    "# Check performance post-JIT\n",
    "_, res = lax.scan(step_particle_filter, (init_state, k), jnp.arange(0,len(observations)))"
   ]
  },
  {
   "cell_type": "code",
   "execution_count": null,
   "id": "69428d66",
   "metadata": {},
   "outputs": [],
   "source": [
    "# Change the key to get different (repeatable) runs\n",
    "k = random.PRNGKey(8)\n",
    "\n",
    "_, res = lax.scan(step_particle_filter, (init_state, k), jnp.arange(0,len(observations)))\n",
    "\n",
    "# Plotting tools expect all arrays to contain the initial state at the start\n",
    "\n",
    "proposed = np.vstack([np.array((init_state,)),res[\"proposed\"]])\n",
    "resampled = np.vstack([np.array((init_state,)),res[\"resampled\"]])\n",
    "pedigree = res[\"pedigree\"]\n",
    "particles = resampled\n",
    "\n",
    "plot_particle_results(proposed, resampled, observations)"
   ]
  },
  {
   "cell_type": "code",
   "execution_count": null,
   "id": "5",
   "metadata": {},
   "outputs": [],
   "source": [
    "#links = get_links_from_pedigree(particles, pedigree, observations)\n",
    "#plot_links(particles, links, observations)"
   ]
  },
  {
   "cell_type": "code",
   "execution_count": null,
   "id": "42cf4a8f",
   "metadata": {},
   "outputs": [],
   "source": []
  }
 ],
 "metadata": {
  "kernelspec": {
   "display_name": "Python 3 (ipykernel)",
   "language": "python",
   "name": "python3"
  },
  "language_info": {
   "codemirror_mode": {
    "name": "ipython",
    "version": 3
   },
   "file_extension": ".py",
   "mimetype": "text/x-python",
   "name": "python",
   "nbconvert_exporter": "python",
   "pygments_lexer": "ipython3",
   "version": "3.12.6"
  }
 },
 "nbformat": 4,
 "nbformat_minor": 5
}
