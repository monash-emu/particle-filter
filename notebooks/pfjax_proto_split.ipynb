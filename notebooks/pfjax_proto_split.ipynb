{
 "cells": [
  {
   "cell_type": "code",
   "execution_count": null,
   "id": "ace5378e",
   "metadata": {},
   "outputs": [],
   "source": [
    "# Optional!\n",
    "# This will enable 64bit (double) precision for internal calculations\n",
    "# More accurate, but half the speed. Whether it is necessary depends on the problem (to be discussed)\n",
    "\n",
    "from os import environ\n",
    "environ[\"JAX_ENABLE_X64\"] = \"True\""
   ]
  },
  {
   "cell_type": "code",
   "execution_count": null,
   "id": "0",
   "metadata": {},
   "outputs": [],
   "source": [
    "import numpy as np\n",
    "import pandas as pd\n",
    "from scipy.stats import truncnorm\n",
    "import matplotlib.pyplot as plt\n",
    "\n",
    "from jax import random, lax, numpy as jnp, jit\n",
    "\n",
    "from emu_filter.efjax.state_model import ensemble_step\n",
    "from emu_filter.efjax.importance import truncnorm_importance\n",
    "from emu_filter.efjax.outputs import get_counts_from_particles, plot_particle_results, get_links_from_pedigree, plot_links"
   ]
  },
  {
   "cell_type": "code",
   "execution_count": null,
   "id": "2",
   "metadata": {},
   "outputs": [],
   "source": [
    "# Inputs\n",
    "contact_rate = 1.0\n",
    "recovery_rate = 0.3\n",
    "total_pop = 600\n",
    "inf_init = 8\n",
    "n_particles = 128\n",
    "\n",
    "# Needs to be jax array\n",
    "observations = jnp.array([0, 15, 40, 65, 124, 204, 252, 210])\n",
    "target_sd = 10.0"
   ]
  },
  {
   "cell_type": "code",
   "execution_count": null,
   "id": "5ff3282f",
   "metadata": {},
   "outputs": [],
   "source": [
    "# Initialise particles\n",
    "\n",
    "init_state = np.zeros([3, n_particles], dtype=np.int32)\n",
    "init_state[0, :] = total_pop - inf_init  # Susceptible\n",
    "init_state[1, :] = inf_init  # Infectious\n"
   ]
  },
  {
   "cell_type": "code",
   "execution_count": null,
   "id": "16cab82d",
   "metadata": {},
   "outputs": [],
   "source": [
    "# Generate a set of jax random keys; one for each timestep\n",
    "k = random.PRNGKey(0)\n",
    "\n",
    "def step_particle_filter(carry, idx):\n",
    "    particles, k = carry\n",
    "    # Split the keys for our 2 random operations (and one to pass on to the next iteration)\n",
    "    k_next, k_ens, k_choice = random.split(k, 3)\n",
    "\n",
    "    proposed_particles = ensemble_step(particles, k_ens, contact_rate, recovery_rate, total_pop)\n",
    "    \n",
    "    # Importance    \n",
    "    weights = truncnorm_importance(proposed_particles[1], observations[idx], target_sd)\n",
    "    norm_weights = weights / weights.sum()\n",
    "\n",
    "    # Resampling\n",
    "    indices = random.choice(k_choice, n_particles, shape=(n_particles,), p=norm_weights)\n",
    "    resamp_particles = proposed_particles[:, indices]\n",
    "    \n",
    "    # Update\n",
    "    return (resamp_particles,k_next), {\"proposed\": proposed_particles, \"resampled\": resamp_particles, \"pedigree\": indices}\n",
    "\n",
    "_, res = lax.scan(step_particle_filter, (init_state,k), jnp.arange(0,len(observations)))"
   ]
  },
  {
   "cell_type": "code",
   "execution_count": null,
   "id": "97fa52a5",
   "metadata": {},
   "outputs": [],
   "source": [
    "%%time\n",
    "# Check performance post-JIT\n",
    "_, res = lax.scan(step_particle_filter, (init_state, k), jnp.arange(0,len(observations)))"
   ]
  },
  {
   "cell_type": "code",
   "execution_count": null,
   "id": "69428d66",
   "metadata": {},
   "outputs": [],
   "source": [
    "# Change the key to get different (repeatable) runs\n",
    "k = random.PRNGKey(9)\n",
    "\n",
    "_, res = lax.scan(step_particle_filter, (init_state, k), jnp.arange(0,len(observations)))\n",
    "\n",
    "# Plotting tools expect all arrays to contain the initial state at the start\n",
    "\n",
    "proposed = np.vstack([np.array((init_state,)),res[\"proposed\"]])\n",
    "resampled = np.vstack([np.array((init_state,)),res[\"resampled\"]])\n",
    "pedigree = res[\"pedigree\"]\n",
    "particles = resampled\n",
    "\n",
    "plot_particle_results(proposed, resampled, observations)"
   ]
  },
  {
   "cell_type": "code",
   "execution_count": null,
   "id": "5",
   "metadata": {},
   "outputs": [],
   "source": [
    "#links = get_links_from_pedigree(particles, pedigree, observations)\n",
    "#plot_links(particles, links, observations)"
   ]
  },
  {
   "cell_type": "code",
   "execution_count": null,
   "id": "42cf4a8f",
   "metadata": {},
   "outputs": [],
   "source": [
    "from collections import namedtuple\n",
    "\n",
    "Thing = namedtuple(\"Thing\", [\"particles\", \"random_walk\"])"
   ]
  },
  {
   "cell_type": "code",
   "execution_count": null,
   "id": "f3d5b2c8",
   "metadata": {},
   "outputs": [],
   "source": [
    "def index_soa(class_t, obj, idx):\n",
    "    return class_t(*[field[...,idx] for field in obj])"
   ]
  },
  {
   "cell_type": "code",
   "execution_count": null,
   "id": "5391ec4b",
   "metadata": {},
   "outputs": [],
   "source": [
    "def importance_func_thing(proposed, obs, target_sd):\n",
    "    return truncnorm_importance(proposed.particles[1], obs, target_sd)\n",
    "\n",
    "def ensemble_step_func(states: Thing, k, *step_args):\n",
    "    particles = ensemble_step(states.particles, k, *step_args)\n",
    "    return Thing(particles, states.random_walk)"
   ]
  },
  {
   "cell_type": "code",
   "execution_count": null,
   "id": "f9236210",
   "metadata": {},
   "outputs": [],
   "source": [
    "def build_pfilter(ensemble_step_func, importance_func, state_t):\n",
    "\n",
    "    def run_particle_filter(k, init_state, observations, step_args):\n",
    "\n",
    "        def step_particle_filter(carry, idx):\n",
    "            particles, k = carry\n",
    "            # Split the keys for our 2 random operations (and one to pass on to the next iteration)\n",
    "            k_next, k_ens, k_choice = random.split(k, 3)\n",
    "\n",
    "            proposed_particles = ensemble_step_func(particles, k_ens, *step_args)\n",
    "            \n",
    "            # Importance    \n",
    "            weights = importance_func(proposed_particles, observations[idx], target_sd)\n",
    "            norm_weights = weights / weights.sum()\n",
    "\n",
    "            # Resampling\n",
    "            indices = random.choice(k_choice, n_particles, shape=(n_particles,), p=norm_weights)\n",
    "\n",
    "            resamp_particles = index_soa(state_t, proposed_particles, indices)\n",
    "            \n",
    "            # Update\n",
    "            return (resamp_particles,k_next), {\"proposed\": proposed_particles, \"resampled\": resamp_particles, \"pedigree\": indices}\n",
    "\n",
    "        _, res = lax.scan(step_particle_filter, (init_state,k), jnp.arange(0,len(observations)))\n",
    "\n",
    "        return res\n",
    "    \n",
    "    return run_particle_filter"
   ]
  },
  {
   "cell_type": "code",
   "execution_count": null,
   "id": "8017923f",
   "metadata": {},
   "outputs": [],
   "source": [
    "rpf = jit(build_pfilter(ensemble_step_func, importance_func_thing, Thing))"
   ]
  },
  {
   "cell_type": "code",
   "execution_count": null,
   "id": "d4a30325",
   "metadata": {},
   "outputs": [],
   "source": [
    "init_thing = Thing(init_state, jnp.linspace(1.0,2.0, n_particles))"
   ]
  },
  {
   "cell_type": "code",
   "execution_count": null,
   "id": "e40e3753",
   "metadata": {},
   "outputs": [],
   "source": [
    "contact_rate,recovery_rate,total_pop"
   ]
  },
  {
   "cell_type": "code",
   "execution_count": null,
   "id": "72841410",
   "metadata": {},
   "outputs": [],
   "source": [
    "%%time\n",
    "res = rpf(k, init_thing, observations, (contact_rate, recovery_rate, total_pop))"
   ]
  },
  {
   "cell_type": "code",
   "execution_count": null,
   "id": "d35f6393",
   "metadata": {},
   "outputs": [],
   "source": [
    "pd.DataFrame(res[\"proposed\"].particles[:,1]).plot(legend='',color=\"#00000011\")\n",
    "pd.Series(observations).plot(style='.',color=\"red\")"
   ]
  },
  {
   "cell_type": "code",
   "execution_count": null,
   "id": "35bc6728",
   "metadata": {},
   "outputs": [],
   "source": [
    "pd.DataFrame(res[\"resampled\"].particles[:,1]).plot(legend='',color=\"#00000011\")\n",
    "pd.Series(observations).plot(style='.',color=\"red\")"
   ]
  },
  {
   "cell_type": "code",
   "execution_count": null,
   "id": "ae0f7264",
   "metadata": {},
   "outputs": [],
   "source": []
  }
 ],
 "metadata": {
  "kernelspec": {
   "display_name": "Python 3 (ipykernel)",
   "language": "python",
   "name": "python3"
  },
  "language_info": {
   "codemirror_mode": {
    "name": "ipython",
    "version": 3
   },
   "file_extension": ".py",
   "mimetype": "text/x-python",
   "name": "python",
   "nbconvert_exporter": "python",
   "pygments_lexer": "ipython3",
   "version": "3.12.6"
  }
 },
 "nbformat": 4,
 "nbformat_minor": 5
}
